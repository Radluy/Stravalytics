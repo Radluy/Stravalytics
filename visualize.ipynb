{
 "cells": [
  {
   "cell_type": "code",
   "execution_count": 16,
   "metadata": {},
   "outputs": [],
   "source": [
    "import json\n",
    "import pandas as pd\n",
    "import seaborn as sns\n",
    "from matplotlib import pyplot as plt"
   ]
  },
  {
   "cell_type": "code",
   "execution_count": 17,
   "metadata": {},
   "outputs": [],
   "source": [
    "activities_df = pd.read_json('activities.json')\n",
    "tmp = pd.read_json('activities2.json')\n",
    "activities_df = activities_df.append(tmp)"
   ]
  },
  {
   "cell_type": "code",
   "execution_count": 18,
   "metadata": {},
   "outputs": [
    {
     "data": {
      "text/plain": [
       "<AxesSubplot:xlabel='count', ylabel='type'>"
      ]
     },
     "execution_count": 18,
     "metadata": {},
     "output_type": "execute_result"
    },
    {
     "data": {
      "image/png": "[encoded data removed]",
      "text/plain": [
       "<Figure size 432x288 with 1 Axes>"
      ]
     },
     "metadata": {
      "needs_background": "light"
     },
     "output_type": "display_data"
    }
   ],
   "source": [
    "#sports_df = activities_df.groupby(['type'])\n",
    "#print(sports_df)\n",
    "sns.countplot(data=activities_df, y='type', palette='rocket')\n"
   ]
  },
  {
   "cell_type": "code",
   "execution_count": 34,
   "metadata": {},
   "outputs": [
    {
     "name": "stdout",
     "output_type": "stream",
     "text": [
      "Heighest point[M]: 2293.6\n",
      "Longest activity[H]: 11.467222222222222\n",
      "Longest distance[KM]: 100.536\n",
      "Run statistics:\n",
      "count      118.000000\n",
      "mean      8926.020339\n",
      "std       4061.269939\n",
      "min       2135.400000\n",
      "25%       6066.125000\n",
      "50%       8117.500000\n",
      "75%      10702.800000\n",
      "max      21315.600000\n",
      "Name: distance, dtype: float64\n",
      "Total elevation gained[M]: 131926.5\n"
     ]
    }
   ],
   "source": [
    "max_dist = activities_df['distance'].max()\n",
    "longest_time = activities_df['moving_time'].max()\n",
    "heighest_point = activities_df['elev_high'].max()\n",
    "print(f'Heighest point[M]: {heighest_point}')\n",
    "print(f'Longest activity[H]: {longest_time/3600}')\n",
    "print(f'Longest distance[KM]: {max_dist/1000}')\n",
    "\n",
    "print('Run statistics:')\n",
    "print(activities_df[activities_df['type'] == 'Run']['distance'].describe())\n",
    "\n",
    "summed = activities_df['total_elevation_gain'].sum()\n",
    "print(f'Total elevation gained[M]: {summed}')"
   ]
  }
 ],
 "metadata": {
  "interpreter": {
   "hash": "3c07260404bda95576ca01a54298591719367ad71ba7fbce7370fa7001c104a6"
  },
  "kernelspec": {
   "display_name": "Python 3.8.10 64-bit ('venv': venv)",
   "language": "python",
   "name": "python3"
  },
  "language_info": {
   "codemirror_mode": {
    "name": "ipython",
    "version": 3
   },
   "file_extension": ".py",
   "mimetype": "text/x-python",
   "name": "python",
   "nbconvert_exporter": "python",
   "pygments_lexer": "ipython3",
   "version": "3.8.10"
  },
  "orig_nbformat": 4
 },
 "nbformat": 4,
 "nbformat_minor": 2
}
